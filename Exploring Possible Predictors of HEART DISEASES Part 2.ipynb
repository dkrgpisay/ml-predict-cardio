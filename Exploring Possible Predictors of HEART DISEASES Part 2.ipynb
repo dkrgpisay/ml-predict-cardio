{
 "cells": [
  {
   "cell_type": "code",
   "execution_count": 22,
   "metadata": {
    "ExecuteTime": {
     "end_time": "2020-07-08T13:20:29.858615Z",
     "start_time": "2020-07-08T13:20:29.853880Z"
    },
    "slideshow": {
     "slide_type": "skip"
    }
   },
   "outputs": [
    {
     "data": {
      "text/html": [
       "<script>\n",
       "code_show=true; \n",
       "function code_toggle() {\n",
       " if (code_show){\n",
       " $('div.input').hide();\n",
       " } else {\n",
       " $('div.input').show();\n",
       " }\n",
       " code_show = !code_show\n",
       "} \n",
       "$( document ).ready(code_toggle);\n",
       "</script>\n",
       "<form action=\"javascript:code_toggle()\"><input type=\"submit\" value=\"Click here to toggle on/off the raw code.\"></form>"
      ],
      "text/plain": [
       "<IPython.core.display.HTML object>"
      ]
     },
     "execution_count": 22,
     "metadata": {},
     "output_type": "execute_result"
    }
   ],
   "source": [
    "\n",
    "\n",
    "from IPython.display import HTML\n",
    "\n",
    "HTML('''<script>\n",
    "code_show=true; \n",
    "function code_toggle() {\n",
    " if (code_show){\n",
    " $('div.input').hide();\n",
    " } else {\n",
    " $('div.input').show();\n",
    " }\n",
    " code_show = !code_show\n",
    "} \n",
    "$( document ).ready(code_toggle);\n",
    "</script>\n",
    "<form action=\"javascript:code_toggle()\"><input type=\"submit\" value=\"Click here to toggle on/off the raw code.\"></form>''')\n",
    "\n"
   ]
  },
  {
   "cell_type": "markdown",
   "metadata": {
    "ExecuteTime": {
     "end_time": "2020-07-08T12:45:59.098919Z",
     "start_time": "2020-07-08T12:45:59.093446Z"
    },
    "slideshow": {
     "slide_type": "slide"
    }
   },
   "source": [
    "<img src='Header.png' style=\"width:100%\">"
   ]
  },
  {
   "cell_type": "code",
   "execution_count": 1,
   "metadata": {
    "ExecuteTime": {
     "end_time": "2020-07-08T12:46:39.856030Z",
     "start_time": "2020-07-08T12:46:37.694700Z"
    },
    "slideshow": {
     "slide_type": "skip"
    }
   },
   "outputs": [],
   "source": [
    "import pandas as pd\n",
    "import seaborn as sns\n",
    "import numpy as np\n",
    "import matplotlib.pyplot as plt\n",
    "from sklearn.neighbors import KNeighborsClassifier\n",
    "from sklearn.linear_model import LogisticRegression\n",
    "from sklearn.svm import LinearSVC\n",
    "from sklearn.model_selection import train_test_split\n",
    "from sklearn.preprocessing import MinMaxScaler, StandardScaler, RobustScaler\n",
    "from IPython.display import display, Markdown, Latex\n",
    "import warnings\n",
    "warnings.filterwarnings(\"ignore\")"
   ]
  },
  {
   "cell_type": "markdown",
   "metadata": {
    "slideshow": {
     "slide_type": "slide"
    }
   },
   "source": [
    "# I. Introduction\n",
    "\n",
    "Building on what our awesome classmates' findings, we used other machine learning models to determine the presence of heart diseases.\n",
    "\n",
    "While our classmates used a k-Nearest Neighbors Classifier as their machine learning model, we now used Logistic Regression and Support Vector Machine with a linear kernel to predict the presence of heart diseases using the same dataset that they used.\n",
    "\n",
    "#### Disclaimer: The findings presented are only based on the dataset used and should not be taken as general truths."
   ]
  },
  {
   "cell_type": "markdown",
   "metadata": {
    "slideshow": {
     "slide_type": "slide"
    }
   },
   "source": [
    "# II. Function Definitions"
   ]
  },
  {
   "cell_type": "code",
   "execution_count": 20,
   "metadata": {
    "ExecuteTime": {
     "end_time": "2020-07-08T13:10:19.720286Z",
     "start_time": "2020-07-08T13:10:19.688771Z"
    },
    "code_folding": [
     0,
     37,
     71,
     90
    ],
    "slideshow": {
     "slide_type": "skip"
    }
   },
   "outputs": [],
   "source": [
    "def logistic_regression(features, target, train_range=50, test_size=0.3, \n",
    "                        max_iter=1000, solver='lbfgs', class_weight=None,\n",
    "                        penalty='l2', C=[1e-3,0.1, 0.2,0.4, 0.75, \n",
    "                                         1, 1.5, 3, 5, 10, 15,  20, \n",
    "                                         100, 300, 1000, 5000],\n",
    "                        scaler=None):\n",
    "\n",
    "    tmpdf = pd.DataFrame(columns=['i','C','type','value']) \n",
    "    coefs = []\n",
    "    \n",
    "    for i in range(1, train_range, 1):\n",
    "        X_train, X_test,\\\n",
    "        y_train, y_test = train_test_split(features, target, \n",
    "                                           test_size=test_size, \n",
    "                                           random_state=i, \n",
    "                                           stratify=target)\n",
    "        if scaler:\n",
    "            X_train = scaler.fit_transform(X_train)\n",
    "            X_test = scaler.transform(X_test)\n",
    "        for alpha_run in C:\n",
    "            lr = LogisticRegression(C=alpha_run, max_iter=max_iter, \n",
    "                                    class_weight=class_weight,\n",
    "                                    solver=solver, penalty=penalty\n",
    "                                   ).fit(X_train, y_train)\n",
    "            \n",
    "            coefs.append((alpha_run, lr.coef_))\n",
    "            tmpdf = tmpdf.append({'i': i, 'C': alpha_run, \n",
    "                                  'type': 'train',\n",
    "                                  'value': lr.score(X_train, y_train)}, \n",
    "                                 ignore_index=True)\n",
    "            tmpdf = tmpdf.append({'i': i, 'C': alpha_run, \n",
    "                                  'type': 'test',\n",
    "                                  'value': lr.score(X_test, y_test)}, \n",
    "                                 ignore_index=True)\n",
    "\n",
    "    return tmpdf, pd.DataFrame(coefs)\n",
    "\n",
    "def linear_svm(features, target, train_range=50, test_size=0.3, dual=True,\n",
    "               max_iter=1000, penalty='l2', \n",
    "               C=[1e-3,0.1, 0.2,0.4, 0.75, 1, 1.5, 3, 5, 10, 15,  20, \n",
    "                  100, 300, 1000, 5000], scaler=None):\n",
    "\n",
    "    tmpdf = pd.DataFrame(columns=['i','C','type','value'])\n",
    "    coefs = []\n",
    "    \n",
    "    for i in range(1, train_range, 1):\n",
    "        X_train, X_test,\\\n",
    "        y_train, y_test = train_test_split(features, target, \n",
    "                                           test_size=test_size, \n",
    "                                           random_state=i, \n",
    "                                           stratify=target)\n",
    "        if scaler:\n",
    "            X_train = scaler.fit_transform(X_train)\n",
    "            X_test = scaler.transform(X_test)\n",
    "            \n",
    "        for alpha_run in C:\n",
    "            svm = LinearSVC(C=alpha_run, penalty=penalty, dual=dual,\n",
    "                            max_iter=max_iter).fit(X_train, y_train)\n",
    "            \n",
    "            coefs.append((alpha_run, svm.coef_))\n",
    "            tmpdf = tmpdf.append({'i': i, 'C': alpha_run, \n",
    "                                  'type': 'train',\n",
    "                                  'value': svm.score(X_train, y_train)}, \n",
    "                                 ignore_index=True)\n",
    "            tmpdf = tmpdf.append({'i': i, 'C': alpha_run, \n",
    "                                  'type': 'test',\n",
    "                                  'value': svm.score(X_test, y_test)}, \n",
    "                                 ignore_index=True)\n",
    "\n",
    "    return tmpdf, pd.DataFrame(coefs)\n",
    "\n",
    "def classification_plotter(df=None, train_data=None, test_data=None, \n",
    "                           x='k', y='value', hue='type', title=None, \n",
    "                           xlabel=None, ylabel=None, ci='sd', \n",
    "                           C=[1e-3,0.1, 0.2,0.4, 0.75, 1, 1.5, 3, 5, 10, 15, \n",
    "                              20, 100, 300, 1000, 5000], xscale='linear', \n",
    "                           ylim=[0, 1], figsize=(15,10)):\n",
    "\n",
    "    fig = plt.figure(figsize=figsize)\n",
    "\n",
    "    sns.lineplot(x=x, y=y, hue=hue, ci=ci, data=df);\n",
    "\n",
    "    plt.title(title)\n",
    "    plt.xlabel(xlabel)\n",
    "    plt.ylabel(ylabel)\n",
    "    plt.xscale(xscale)\n",
    "    plt.ylim(*ylim)\n",
    "    plt.legend()\n",
    "    plt.show()\n",
    "    \n",
    "def summary(results):\n",
    "    table =  '## SUMMARY OF RESULTS\\n'\n",
    "    table += f'| **Method** | **Accuracy** | **Optimal Parameters** | **Best Predictor** |\\n'\n",
    "    table += f'| :---: | :---: | :---: | :---: |\\n'\n",
    "    for r in results:\n",
    "        table += f'|{r[\"method\"]} | {r[\"accuracy\"]} | {r[\"optimal\"]} | {r.get(\"best_predictor\", \"N/A\")}\\n'\n",
    "        \n",
    "    display(Markdown(table))"
   ]
  },
  {
   "cell_type": "markdown",
   "metadata": {
    "slideshow": {
     "slide_type": "slide"
    }
   },
   "source": [
    "# III. Train and Test Pipeline"
   ]
  },
  {
   "cell_type": "markdown",
   "metadata": {
    "slideshow": {
     "slide_type": "subslide"
    }
   },
   "source": [
    "### A. Read the dataset from `heart.csv`"
   ]
  },
  {
   "cell_type": "code",
   "execution_count": 3,
   "metadata": {
    "ExecuteTime": {
     "end_time": "2020-07-08T12:46:39.898253Z",
     "start_time": "2020-07-08T12:46:39.880652Z"
    },
    "slideshow": {
     "slide_type": "fragment"
    }
   },
   "outputs": [
    {
     "data": {
      "text/html": [
       "<div>\n",
       "<style scoped>\n",
       "    .dataframe tbody tr th:only-of-type {\n",
       "        vertical-align: middle;\n",
       "    }\n",
       "\n",
       "    .dataframe tbody tr th {\n",
       "        vertical-align: top;\n",
       "    }\n",
       "\n",
       "    .dataframe thead th {\n",
       "        text-align: right;\n",
       "    }\n",
       "</style>\n",
       "<table border=\"1\" class=\"dataframe\">\n",
       "  <thead>\n",
       "    <tr style=\"text-align: right;\">\n",
       "      <th></th>\n",
       "      <th>age</th>\n",
       "      <th>sex</th>\n",
       "      <th>cp</th>\n",
       "      <th>trestbps</th>\n",
       "      <th>chol</th>\n",
       "      <th>fbs</th>\n",
       "      <th>restecg</th>\n",
       "      <th>thalach</th>\n",
       "      <th>exang</th>\n",
       "      <th>oldpeak</th>\n",
       "      <th>slope</th>\n",
       "      <th>ca</th>\n",
       "      <th>thal</th>\n",
       "      <th>target</th>\n",
       "    </tr>\n",
       "  </thead>\n",
       "  <tbody>\n",
       "    <tr>\n",
       "      <th>0</th>\n",
       "      <td>63</td>\n",
       "      <td>1</td>\n",
       "      <td>3</td>\n",
       "      <td>145</td>\n",
       "      <td>233</td>\n",
       "      <td>1</td>\n",
       "      <td>0</td>\n",
       "      <td>150</td>\n",
       "      <td>0</td>\n",
       "      <td>2.3</td>\n",
       "      <td>0</td>\n",
       "      <td>0</td>\n",
       "      <td>1</td>\n",
       "      <td>1</td>\n",
       "    </tr>\n",
       "    <tr>\n",
       "      <th>1</th>\n",
       "      <td>37</td>\n",
       "      <td>1</td>\n",
       "      <td>2</td>\n",
       "      <td>130</td>\n",
       "      <td>250</td>\n",
       "      <td>0</td>\n",
       "      <td>1</td>\n",
       "      <td>187</td>\n",
       "      <td>0</td>\n",
       "      <td>3.5</td>\n",
       "      <td>0</td>\n",
       "      <td>0</td>\n",
       "      <td>2</td>\n",
       "      <td>1</td>\n",
       "    </tr>\n",
       "    <tr>\n",
       "      <th>2</th>\n",
       "      <td>41</td>\n",
       "      <td>0</td>\n",
       "      <td>1</td>\n",
       "      <td>130</td>\n",
       "      <td>204</td>\n",
       "      <td>0</td>\n",
       "      <td>0</td>\n",
       "      <td>172</td>\n",
       "      <td>0</td>\n",
       "      <td>1.4</td>\n",
       "      <td>2</td>\n",
       "      <td>0</td>\n",
       "      <td>2</td>\n",
       "      <td>1</td>\n",
       "    </tr>\n",
       "    <tr>\n",
       "      <th>3</th>\n",
       "      <td>56</td>\n",
       "      <td>1</td>\n",
       "      <td>1</td>\n",
       "      <td>120</td>\n",
       "      <td>236</td>\n",
       "      <td>0</td>\n",
       "      <td>1</td>\n",
       "      <td>178</td>\n",
       "      <td>0</td>\n",
       "      <td>0.8</td>\n",
       "      <td>2</td>\n",
       "      <td>0</td>\n",
       "      <td>2</td>\n",
       "      <td>1</td>\n",
       "    </tr>\n",
       "    <tr>\n",
       "      <th>4</th>\n",
       "      <td>57</td>\n",
       "      <td>0</td>\n",
       "      <td>0</td>\n",
       "      <td>120</td>\n",
       "      <td>354</td>\n",
       "      <td>0</td>\n",
       "      <td>1</td>\n",
       "      <td>163</td>\n",
       "      <td>1</td>\n",
       "      <td>0.6</td>\n",
       "      <td>2</td>\n",
       "      <td>0</td>\n",
       "      <td>2</td>\n",
       "      <td>1</td>\n",
       "    </tr>\n",
       "  </tbody>\n",
       "</table>\n",
       "</div>"
      ],
      "text/plain": [
       "   age  sex  cp  trestbps  chol  fbs  restecg  thalach  exang  oldpeak  slope  \\\n",
       "0   63    1   3       145   233    1        0      150      0      2.3      0   \n",
       "1   37    1   2       130   250    0        1      187      0      3.5      0   \n",
       "2   41    0   1       130   204    0        0      172      0      1.4      2   \n",
       "3   56    1   1       120   236    0        1      178      0      0.8      2   \n",
       "4   57    0   0       120   354    0        1      163      1      0.6      2   \n",
       "\n",
       "   ca  thal  target  \n",
       "0   0     1       1  \n",
       "1   0     2       1  \n",
       "2   0     2       1  \n",
       "3   0     2       1  \n",
       "4   0     2       1  "
      ]
     },
     "execution_count": 3,
     "metadata": {},
     "output_type": "execute_result"
    }
   ],
   "source": [
    "df = pd.read_csv('heart.csv')\n",
    "df.head()"
   ]
  },
  {
   "cell_type": "markdown",
   "metadata": {
    "slideshow": {
     "slide_type": "subslide"
    }
   },
   "source": [
    "### B. Define the features"
   ]
  },
  {
   "cell_type": "code",
   "execution_count": 4,
   "metadata": {
    "ExecuteTime": {
     "end_time": "2020-07-08T12:46:39.929933Z",
     "start_time": "2020-07-08T12:46:39.900750Z"
    },
    "scrolled": true,
    "slideshow": {
     "slide_type": "fragment"
    }
   },
   "outputs": [
    {
     "data": {
      "text/html": [
       "<div>\n",
       "<style scoped>\n",
       "    .dataframe tbody tr th:only-of-type {\n",
       "        vertical-align: middle;\n",
       "    }\n",
       "\n",
       "    .dataframe tbody tr th {\n",
       "        vertical-align: top;\n",
       "    }\n",
       "\n",
       "    .dataframe thead th {\n",
       "        text-align: right;\n",
       "    }\n",
       "</style>\n",
       "<table border=\"1\" class=\"dataframe\">\n",
       "  <thead>\n",
       "    <tr style=\"text-align: right;\">\n",
       "      <th></th>\n",
       "      <th>age</th>\n",
       "      <th>sex</th>\n",
       "      <th>trestbps</th>\n",
       "      <th>chol</th>\n",
       "      <th>fbs</th>\n",
       "      <th>thalach</th>\n",
       "      <th>exang</th>\n",
       "      <th>oldpeak</th>\n",
       "      <th>ca</th>\n",
       "      <th>cp_0</th>\n",
       "      <th>...</th>\n",
       "      <th>restecg_0</th>\n",
       "      <th>restecg_1</th>\n",
       "      <th>restecg_2</th>\n",
       "      <th>slope_0</th>\n",
       "      <th>slope_1</th>\n",
       "      <th>slope_2</th>\n",
       "      <th>thal_0</th>\n",
       "      <th>thal_1</th>\n",
       "      <th>thal_2</th>\n",
       "      <th>thal_3</th>\n",
       "    </tr>\n",
       "  </thead>\n",
       "  <tbody>\n",
       "    <tr>\n",
       "      <th>0</th>\n",
       "      <td>63</td>\n",
       "      <td>1</td>\n",
       "      <td>145</td>\n",
       "      <td>233</td>\n",
       "      <td>1</td>\n",
       "      <td>150</td>\n",
       "      <td>0</td>\n",
       "      <td>2.3</td>\n",
       "      <td>0</td>\n",
       "      <td>0</td>\n",
       "      <td>...</td>\n",
       "      <td>1</td>\n",
       "      <td>0</td>\n",
       "      <td>0</td>\n",
       "      <td>1</td>\n",
       "      <td>0</td>\n",
       "      <td>0</td>\n",
       "      <td>0</td>\n",
       "      <td>1</td>\n",
       "      <td>0</td>\n",
       "      <td>0</td>\n",
       "    </tr>\n",
       "    <tr>\n",
       "      <th>1</th>\n",
       "      <td>37</td>\n",
       "      <td>1</td>\n",
       "      <td>130</td>\n",
       "      <td>250</td>\n",
       "      <td>0</td>\n",
       "      <td>187</td>\n",
       "      <td>0</td>\n",
       "      <td>3.5</td>\n",
       "      <td>0</td>\n",
       "      <td>0</td>\n",
       "      <td>...</td>\n",
       "      <td>0</td>\n",
       "      <td>1</td>\n",
       "      <td>0</td>\n",
       "      <td>1</td>\n",
       "      <td>0</td>\n",
       "      <td>0</td>\n",
       "      <td>0</td>\n",
       "      <td>0</td>\n",
       "      <td>1</td>\n",
       "      <td>0</td>\n",
       "    </tr>\n",
       "    <tr>\n",
       "      <th>2</th>\n",
       "      <td>41</td>\n",
       "      <td>0</td>\n",
       "      <td>130</td>\n",
       "      <td>204</td>\n",
       "      <td>0</td>\n",
       "      <td>172</td>\n",
       "      <td>0</td>\n",
       "      <td>1.4</td>\n",
       "      <td>0</td>\n",
       "      <td>0</td>\n",
       "      <td>...</td>\n",
       "      <td>1</td>\n",
       "      <td>0</td>\n",
       "      <td>0</td>\n",
       "      <td>0</td>\n",
       "      <td>0</td>\n",
       "      <td>1</td>\n",
       "      <td>0</td>\n",
       "      <td>0</td>\n",
       "      <td>1</td>\n",
       "      <td>0</td>\n",
       "    </tr>\n",
       "    <tr>\n",
       "      <th>3</th>\n",
       "      <td>56</td>\n",
       "      <td>1</td>\n",
       "      <td>120</td>\n",
       "      <td>236</td>\n",
       "      <td>0</td>\n",
       "      <td>178</td>\n",
       "      <td>0</td>\n",
       "      <td>0.8</td>\n",
       "      <td>0</td>\n",
       "      <td>0</td>\n",
       "      <td>...</td>\n",
       "      <td>0</td>\n",
       "      <td>1</td>\n",
       "      <td>0</td>\n",
       "      <td>0</td>\n",
       "      <td>0</td>\n",
       "      <td>1</td>\n",
       "      <td>0</td>\n",
       "      <td>0</td>\n",
       "      <td>1</td>\n",
       "      <td>0</td>\n",
       "    </tr>\n",
       "    <tr>\n",
       "      <th>4</th>\n",
       "      <td>57</td>\n",
       "      <td>0</td>\n",
       "      <td>120</td>\n",
       "      <td>354</td>\n",
       "      <td>0</td>\n",
       "      <td>163</td>\n",
       "      <td>1</td>\n",
       "      <td>0.6</td>\n",
       "      <td>0</td>\n",
       "      <td>1</td>\n",
       "      <td>...</td>\n",
       "      <td>0</td>\n",
       "      <td>1</td>\n",
       "      <td>0</td>\n",
       "      <td>0</td>\n",
       "      <td>0</td>\n",
       "      <td>1</td>\n",
       "      <td>0</td>\n",
       "      <td>0</td>\n",
       "      <td>1</td>\n",
       "      <td>0</td>\n",
       "    </tr>\n",
       "  </tbody>\n",
       "</table>\n",
       "<p>5 rows × 23 columns</p>\n",
       "</div>"
      ],
      "text/plain": [
       "   age  sex  trestbps  chol  fbs  thalach  exang  oldpeak  ca  cp_0  ...  \\\n",
       "0   63    1       145   233    1      150      0      2.3   0     0  ...   \n",
       "1   37    1       130   250    0      187      0      3.5   0     0  ...   \n",
       "2   41    0       130   204    0      172      0      1.4   0     0  ...   \n",
       "3   56    1       120   236    0      178      0      0.8   0     0  ...   \n",
       "4   57    0       120   354    0      163      1      0.6   0     1  ...   \n",
       "\n",
       "   restecg_0  restecg_1  restecg_2  slope_0  slope_1  slope_2  thal_0  thal_1  \\\n",
       "0          1          0          0        1        0        0       0       1   \n",
       "1          0          1          0        1        0        0       0       0   \n",
       "2          1          0          0        0        0        1       0       0   \n",
       "3          0          1          0        0        0        1       0       0   \n",
       "4          0          1          0        0        0        1       0       0   \n",
       "\n",
       "   thal_2  thal_3  \n",
       "0       0       0  \n",
       "1       1       0  \n",
       "2       1       0  \n",
       "3       1       0  \n",
       "4       1       0  \n",
       "\n",
       "[5 rows x 23 columns]"
      ]
     },
     "execution_count": 4,
     "metadata": {},
     "output_type": "execute_result"
    }
   ],
   "source": [
    "features = df.drop('target', axis=1)\n",
    "features[['cp', 'restecg', 'slope', 'thal']] = features[['cp', 'restecg', 'slope', 'thal']].astype(str)\n",
    "features = pd.get_dummies(features)\n",
    "features.head(5)"
   ]
  },
  {
   "cell_type": "markdown",
   "metadata": {
    "ExecuteTime": {
     "end_time": "2020-07-08T13:07:36.149339Z",
     "start_time": "2020-07-08T13:07:36.146091Z"
    },
    "slideshow": {
     "slide_type": "subslide"
    }
   },
   "source": [
    "### C. Setup the target vector"
   ]
  },
  {
   "cell_type": "code",
   "execution_count": 5,
   "metadata": {
    "ExecuteTime": {
     "end_time": "2020-07-08T12:46:39.935410Z",
     "start_time": "2020-07-08T12:46:39.931417Z"
    },
    "slideshow": {
     "slide_type": "fragment"
    }
   },
   "outputs": [
    {
     "data": {
      "text/plain": [
       "0    1\n",
       "1    1\n",
       "2    1\n",
       "3    1\n",
       "4    1\n",
       "Name: target, dtype: int64"
      ]
     },
     "execution_count": 5,
     "metadata": {},
     "output_type": "execute_result"
    }
   ],
   "source": [
    "target = df.target\n",
    "target.head(5)"
   ]
  },
  {
   "cell_type": "code",
   "execution_count": 6,
   "metadata": {
    "ExecuteTime": {
     "end_time": "2020-07-08T12:46:39.939227Z",
     "start_time": "2020-07-08T12:46:39.937012Z"
    },
    "slideshow": {
     "slide_type": "skip"
    }
   },
   "outputs": [],
   "source": [
    "summary_list = []"
   ]
  },
  {
   "cell_type": "markdown",
   "metadata": {
    "slideshow": {
     "slide_type": "subslide"
    }
   },
   "source": [
    "### D. Run classification models"
   ]
  },
  {
   "cell_type": "markdown",
   "metadata": {
    "slideshow": {
     "slide_type": "subslide"
    }
   },
   "source": [
    "#### Logistic Regression with L2"
   ]
  },
  {
   "cell_type": "code",
   "execution_count": 7,
   "metadata": {
    "ExecuteTime": {
     "end_time": "2020-07-08T12:47:18.818268Z",
     "start_time": "2020-07-08T12:46:39.940973Z"
    },
    "slideshow": {
     "slide_type": "skip"
    }
   },
   "outputs": [],
   "source": [
    "C = [1e-3,0.1, 0.2,0.4, 0.75, 1, 1.5, 3, 5, 10, 15,  20, 100, 300, 1000, 5000]\n",
    "lr_res2, lr_res2_coefs = logistic_regression(features, target, \n",
    "                                             max_iter=1e5, solver='saga', \n",
    "                                             C=C, scaler=RobustScaler())"
   ]
  },
  {
   "cell_type": "code",
   "execution_count": 8,
   "metadata": {
    "ExecuteTime": {
     "end_time": "2020-07-08T12:47:19.596129Z",
     "start_time": "2020-07-08T12:47:18.820370Z"
    },
    "code_folding": [
     0,
     4,
     13
    ],
    "scrolled": false,
    "slideshow": {
     "slide_type": "fragment"
    }
   },
   "outputs": [
    {
     "data": {
      "image/png": "[encoded data removed]",
      "text/plain": [
       "<Figure size 864x360 with 1 Axes>"
      ]
     },
     "metadata": {
      "needs_background": "light"
     },
     "output_type": "display_data"
    },
    {
     "name": "stdout",
     "output_type": "stream",
     "text": [
      "Highest Test Set Achieved = 0.846827\n",
      "Best C Parameter = 0.100000\n"
     ]
    }
   ],
   "source": [
    "classification_plotter(lr_res2, xscale='log', C=C, x='C', ylabel='Accuracy', \n",
    "                       ylim=[0.5, 1], title='Logistic Regression with L2', \n",
    "                       figsize=(12,5))\n",
    "\n",
    "max_test = np.amax(lr_res2.loc[lr_res2['type']=='test'].groupby('C')\\\n",
    "                   .mean()['value'])\n",
    "max_C = C[np.argmax(lr_res2.loc[lr_res2['type']=='test'].groupby('C').mean())]\n",
    "mean_coef_matrix = lr_res2_coefs.loc[lr_res2_coefs[0]==max_C][1].mean()\n",
    "best_predictor = np.argmax(np.mean(np.abs(mean_coef_matrix), axis=0))\n",
    "\n",
    "print(\"Highest Test Set Achieved = %f\" % max_test)\n",
    "print(\"Best C Parameter = %f\" % max_C)\n",
    "\n",
    "summary_list.append({'method': 'Logistic Regression - L2', \n",
    "                     'accuracy': f\"{max_test*100:.2f}%\", \n",
    "                     'optimal': f\"C={max_C}\",\n",
    "                     'best_predictor': f\"{features.columns[best_predictor]}\"})"
   ]
  },
  {
   "cell_type": "markdown",
   "metadata": {
    "slideshow": {
     "slide_type": "subslide"
    }
   },
   "source": [
    "#### Logistic Regression with L1"
   ]
  },
  {
   "cell_type": "code",
   "execution_count": 9,
   "metadata": {
    "ExecuteTime": {
     "end_time": "2020-07-08T12:48:14.449946Z",
     "start_time": "2020-07-08T12:47:19.598112Z"
    },
    "slideshow": {
     "slide_type": "skip"
    }
   },
   "outputs": [],
   "source": [
    "C=[1e-3,0.1, 0.2,0.4, 0.75, 1, 1.5, 3, 5, 10, 15,  20, 100, 300, 1000, 5000]\n",
    "\n",
    "lr_res1, lr_res1_coefs = logistic_regression(features, target, \n",
    "                                             max_iter=1e5, C=C, \n",
    "                                             penalty='l1', solver='saga', \n",
    "                                             scaler=RobustScaler())\n"
   ]
  },
  {
   "cell_type": "code",
   "execution_count": 12,
   "metadata": {
    "ExecuteTime": {
     "end_time": "2020-07-08T12:55:46.518435Z",
     "start_time": "2020-07-08T12:55:45.857547Z"
    },
    "scrolled": false,
    "slideshow": {
     "slide_type": "fragment"
    }
   },
   "outputs": [
    {
     "data": {
      "image/png": "[encoded data removed]",
      "text/plain": [
       "<Figure size 864x360 with 1 Axes>"
      ]
     },
     "metadata": {
      "needs_background": "light"
     },
     "output_type": "display_data"
    },
    {
     "name": "stdout",
     "output_type": "stream",
     "text": [
      "Highest Test Set Achieved = 0.841444\n",
      "Best C Parameter = 0.200000\n"
     ]
    }
   ],
   "source": [
    "classification_plotter(lr_res1, xscale='log', C=C, x='C', ylabel='Accuracy', \n",
    "                       ylim=[0.5, 1], title='Logistic Regression with L1', \n",
    "                       figsize=(12,5))\n",
    "\n",
    "max_test = np.amax(lr_res1.loc[lr_res1['type']=='test'].groupby('C')\\\n",
    "                   .mean()['value'])\n",
    "max_C = C[np.argmax(lr_res1.loc[lr_res1['type']=='test'].groupby('C').mean())]\n",
    "mean_coef_matrix = lr_res1_coefs.loc[lr_res1_coefs[0]==max_C][1].mean()\n",
    "best_predictor = np.argmax(np.mean(np.abs(mean_coef_matrix), axis=0))\n",
    "\n",
    "print(\"Highest Test Set Achieved = %f\" % max_test)\n",
    "print(\"Best C Parameter = %f\" % max_C)\n",
    "\n",
    "summary_list.append({'method': 'Logistic Regression - L1', \n",
    "                     'accuracy': f\"{max_test*100:.2f}%\", \n",
    "                     'optimal': f\"C={max_C}\",\n",
    "                     'best_predictor': f\"{features.columns[best_predictor]}\"})"
   ]
  },
  {
   "cell_type": "markdown",
   "metadata": {
    "slideshow": {
     "slide_type": "subslide"
    }
   },
   "source": [
    "#### Linear SVM with L2"
   ]
  },
  {
   "cell_type": "code",
   "execution_count": 13,
   "metadata": {
    "ExecuteTime": {
     "end_time": "2020-07-08T12:58:24.778536Z",
     "start_time": "2020-07-08T12:55:46.520598Z"
    },
    "slideshow": {
     "slide_type": "skip"
    }
   },
   "outputs": [],
   "source": [
    "C=[1e-3,0.1, 0.2,0.4, 0.75, 1, 1.5, 3, 5, 10, 15,  20, 100, 300, 1000, 5000]\n",
    "ls_res2, ls_res2_coefs = linear_svm(features, target, C=C, \n",
    "                                    max_iter=1e5, scaler=RobustScaler())"
   ]
  },
  {
   "cell_type": "code",
   "execution_count": 14,
   "metadata": {
    "ExecuteTime": {
     "end_time": "2020-07-08T12:58:25.451419Z",
     "start_time": "2020-07-08T12:58:24.780953Z"
    },
    "slideshow": {
     "slide_type": "fragment"
    }
   },
   "outputs": [
    {
     "data": {
      "image/png": "[encoded data removed]",
      "text/plain": [
       "<Figure size 864x360 with 1 Axes>"
      ]
     },
     "metadata": {
      "needs_background": "light"
     },
     "output_type": "display_data"
    },
    {
     "name": "stdout",
     "output_type": "stream",
     "text": [
      "Highest Test Set Achieved = 0.832698\n",
      "Best C Parameter = 0.100000\n"
     ]
    }
   ],
   "source": [
    "classification_plotter(ls_res2, xscale='log', C=C, x='C', ylabel='Accuracy', \n",
    "                       ylim=[0.5, 1], title='Linear SVM with L2', \n",
    "                       figsize=(12,5))\n",
    "\n",
    "max_test = np.amax(ls_res2.loc[ls_res2['type']=='test'].groupby('C')\\\n",
    "                   .mean()['value'])\n",
    "max_C = C[np.argmax(ls_res2.loc[ls_res2['type']=='test'].groupby('C').mean())]\n",
    "mean_coef_matrix = ls_res2_coefs.loc[ls_res2_coefs[0]==max_C][1].mean()\n",
    "best_predictor = np.argmax(np.mean(np.abs(mean_coef_matrix), axis=0))\n",
    "\n",
    "print(\"Highest Test Set Achieved = %f\" % max_test)\n",
    "print(\"Best C Parameter = %f\" % max_C)\n",
    "\n",
    "summary_list.append({'method': 'Linear SVM - L2', \n",
    "                     'accuracy': f\"{max_test*100:.2f}%\", \n",
    "                     'optimal': f\"C={max_C}\", \n",
    "                     'best_predictor': f\"{features.columns[best_predictor]}\"})"
   ]
  },
  {
   "cell_type": "markdown",
   "metadata": {
    "slideshow": {
     "slide_type": "subslide"
    }
   },
   "source": [
    "#### Linear SVM with L1"
   ]
  },
  {
   "cell_type": "code",
   "execution_count": 15,
   "metadata": {
    "ExecuteTime": {
     "end_time": "2020-07-08T12:58:37.119594Z",
     "start_time": "2020-07-08T12:58:25.453078Z"
    },
    "slideshow": {
     "slide_type": "skip"
    }
   },
   "outputs": [],
   "source": [
    "C=[1e-3,0.1, 0.2,0.4, 0.75, 1, 1.5, 3, 5, 10, 15,  20, 100, 300, 1000, 5000]\n",
    "ls_res1, ls_res1_coefs = linear_svm(features, target, C=C, max_iter=1e5, \n",
    "                                    penalty='l1', dual=False, \n",
    "                                    scaler=RobustScaler())"
   ]
  },
  {
   "cell_type": "code",
   "execution_count": 16,
   "metadata": {
    "ExecuteTime": {
     "end_time": "2020-07-08T12:58:37.685943Z",
     "start_time": "2020-07-08T12:58:37.122799Z"
    },
    "slideshow": {
     "slide_type": "fragment"
    }
   },
   "outputs": [
    {
     "data": {
      "image/png": "[encoded data removed]",
      "text/plain": [
       "<Figure size 864x360 with 1 Axes>"
      ]
     },
     "metadata": {
      "needs_background": "light"
     },
     "output_type": "display_data"
    },
    {
     "name": "stdout",
     "output_type": "stream",
     "text": [
      "Highest Test Set Achieved = 0.833819\n",
      "Best C Parameter = 0.200000\n"
     ]
    }
   ],
   "source": [
    "classification_plotter(ls_res1, xscale='log', C=C, x='C', ylabel='Accuracy', \n",
    "                       ylim=[0.5, 1], title='Linear SVM with L2', \n",
    "                       figsize=(12,5))\n",
    "\n",
    "max_test = np.amax(ls_res1.loc[ls_res1['type']=='test'].groupby('C')\\\n",
    "                   .mean()['value'])\n",
    "max_C = C[np.argmax(ls_res1.loc[ls_res1['type']=='test'].groupby('C').mean())]\n",
    "mean_coef_matrix = ls_res1_coefs.loc[ls_res1_coefs[0]==max_C][1].mean()\n",
    "best_predictor = np.argmax(np.mean(np.abs(mean_coef_matrix), axis=0))\n",
    "\n",
    "print(\"Highest Test Set Achieved = %f\" % max_test)\n",
    "print(\"Best C Parameter = %f\" % max_C)\n",
    "\n",
    "summary_list.append({'method': 'Linear SVM - L1', \n",
    "                     'accuracy': f\"{max_test*100:.2f}%\", \n",
    "                     'optimal': f\"C={max_C}\",\n",
    "                     'best_predictor': f\"{features.columns[best_predictor]}\"\n",
    "                    })"
   ]
  },
  {
   "cell_type": "code",
   "execution_count": 21,
   "metadata": {
    "ExecuteTime": {
     "end_time": "2020-07-08T13:10:24.774260Z",
     "start_time": "2020-07-08T13:10:24.768366Z"
    },
    "slideshow": {
     "slide_type": "slide"
    }
   },
   "outputs": [
    {
     "data": {
      "text/markdown": [
       "## SUMMARY OF RESULTS\n",
       "| **Method** | **Accuracy** | **Optimal Parameters** | **Best Predictor** |\n",
       "| :---: | :---: | :---: | :---: |\n",
       "|Logistic Regression - L2 | 84.68% | C=0.1 | cp_0\n",
       "|Logistic Regression - L1 | 84.14% | C=0.2 | cp_0\n",
       "|Logistic Regression - L1 | 84.14% | C=0.2 | cp_0\n",
       "|Linear SVM - L2 | 83.27% | C=0.1 | sex\n",
       "|Linear SVM - L1 | 83.38% | C=0.2 | cp_0\n"
      ],
      "text/plain": [
       "<IPython.core.display.Markdown object>"
      ]
     },
     "metadata": {},
     "output_type": "display_data"
    }
   ],
   "source": [
    "summary(summary_list)"
   ]
  },
  {
   "cell_type": "markdown",
   "metadata": {
    "slideshow": {
     "slide_type": "slide"
    }
   },
   "source": [
    "# IV. Conclusion\n",
    "\n",
    "As seen in the summary of results, our model was able to reach an accuracy of <b>84.68%</b> using Logistic Regression with L2 regularization. Apart from this, we also applied a scaler to the features to make them comparable and improve the model's accuracy."
   ]
  },
  {
   "cell_type": "code",
   "execution_count": 18,
   "metadata": {
    "ExecuteTime": {
     "end_time": "2020-07-08T12:58:37.696856Z",
     "start_time": "2020-07-08T12:58:37.693435Z"
    },
    "slideshow": {
     "slide_type": "slide"
    }
   },
   "outputs": [
    {
     "data": {
      "text/html": [
       "<center><iframe width=\"800\" height=\"600\" src=\"https://www.youtube-nocookie.com/embed/1MAgBWStblo?controls=0\" frameborder=\"0\" allow=\"accelerometer; autoplay; encrypted-media; gyroscope; picture-in-picture\" allowfullscreen></iframe></center>"
      ],
      "text/plain": [
       "<IPython.core.display.HTML object>"
      ]
     },
     "execution_count": 18,
     "metadata": {},
     "output_type": "execute_result"
    }
   ],
   "source": [
    "from IPython.display import HTML\n",
    "HTML('<center><iframe width=\"800\" height=\"600\" src=\"https://www.youtube-nocookie.com/embed/1MAgBWStblo?controls=0\" frameborder=\"0\" allow=\"accelerometer; autoplay; encrypted-media; gyroscope; picture-in-picture\" allowfullscreen></iframe></center>')"
   ]
  }
 ],
 "metadata": {
  "celltoolbar": "Slideshow",
  "kernelspec": {
   "display_name": "Python 3",
   "language": "python",
   "name": "python3"
  },
  "language_info": {
   "codemirror_mode": {
    "name": "ipython",
    "version": 3
   },
   "file_extension": ".py",
   "mimetype": "text/x-python",
   "name": "python",
   "nbconvert_exporter": "python",
   "pygments_lexer": "ipython3",
   "version": "3.7.6"
  },
  "varInspector": {
   "cols": {
    "lenName": 16,
    "lenType": 16,
    "lenVar": 40
   },
   "kernels_config": {
    "python": {
     "delete_cmd_postfix": "",
     "delete_cmd_prefix": "del ",
     "library": "var_list.py",
     "varRefreshCmd": "print(var_dic_list())"
    },
    "r": {
     "delete_cmd_postfix": ") ",
     "delete_cmd_prefix": "rm(",
     "library": "var_list.r",
     "varRefreshCmd": "cat(var_dic_list()) "
    }
   },
   "types_to_exclude": [
    "module",
    "function",
    "builtin_function_or_method",
    "instance",
    "_Feature"
   ],
   "window_display": false
  }
 },
 "nbformat": 4,
 "nbformat_minor": 4
}
